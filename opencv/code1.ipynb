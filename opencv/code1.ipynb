{
 "cells": [
  {
   "cell_type": "code",
   "execution_count": 13,
   "id": "37603910",
   "metadata": {
    "scrolled": true
   },
   "outputs": [
    {
     "name": "stdout",
     "output_type": "stream",
     "text": [
      "Requirement already satisfied: opencv-contrib-python in c:\\users\\thsdk\\anaconda3\\lib\\site-packages (4.8.0.74)\n",
      "Requirement already satisfied: numpy>=1.21.2 in c:\\users\\thsdk\\anaconda3\\lib\\site-packages (from opencv-contrib-python) (1.23.5)\n"
     ]
    }
   ],
   "source": [
    "!pip install opencv-contrib-python"
   ]
  },
  {
   "cell_type": "code",
   "execution_count": 1,
   "id": "122c46fe",
   "metadata": {},
   "outputs": [
    {
     "name": "stdout",
     "output_type": "stream",
     "text": [
      "height 421, width 729, channel #3\n"
     ]
    },
    {
     "data": {
      "text/plain": [
       "-1"
      ]
     },
     "execution_count": 1,
     "metadata": {},
     "output_type": "execute_result"
    }
   ],
   "source": [
    "import cv2 \n",
    "\n",
    "#이미지를 그대로 보여줌\n",
    "image = cv2.imread('./a.jpg')\n",
    "(hit, wth, ch)=image.shape\n",
    "print('height {}, width {}, channel #{}'.format(hit, wth, ch))\n",
    "cv2.imshow('image',image)\n",
    "cv2.waitKey(0) "
   ]
  },
  {
   "cell_type": "code",
   "execution_count": 1,
   "id": "9e3b1cc8",
   "metadata": {},
   "outputs": [
    {
     "data": {
      "text/plain": [
       "-1"
      ]
     },
     "execution_count": 1,
     "metadata": {},
     "output_type": "execute_result"
    }
   ],
   "source": [
    "import cv2\n",
    "\n",
    "#사진을 회색조(grayscale)형태로 출력\n",
    "image=cv2.imread('./a.jpg',cv2.IMREAD_GRAYSCALE)\n",
    "cv2.imshow('image',image)\n",
    "#bmp 및 jpg로 저장\n",
    "cv2.imwrite('./ab.bmp',image)\n",
    "cv2.imwrite('./a1.jpg',image)\n",
    "cv2.waitKey(0)"
   ]
  },
  {
   "cell_type": "code",
   "execution_count": 2,
   "id": "5f320f9f",
   "metadata": {},
   "outputs": [
    {
     "name": "stdout",
     "output_type": "stream",
     "text": [
      "height 421, width 729, channel #3\n",
      "height 421, width 729\n"
     ]
    }
   ],
   "source": [
    "import cv2\n",
    "image = cv2.imread('./a.jpg',cv2.IMREAD_UNCHANGED)\n",
    "#이미지의 속성을 나타내는 함수 shape\n",
    "(hit, wth, ch)=image.shape\n",
    "print('height {}, width {}, channel #{}'.format(hit, wth, ch))\n",
    "image1 = cv2.imread('./a1.jpg',cv2.IMREAD_UNCHANGED)\n",
    "(hit, wth)=image1.shape\n",
    "print('height {}, width {}'.format(hit, wth))"
   ]
  },
  {
   "cell_type": "code",
   "execution_count": 1,
   "id": "4411dd59",
   "metadata": {},
   "outputs": [
    {
     "name": "stdout",
     "output_type": "stream",
     "text": [
      "Frame width 640.0, height 480.0\n",
      "64.0 50.0 4.0 0.0 -1.0 -6.0\n"
     ]
    }
   ],
   "source": [
    "import cv2\n",
    "capture = cv2.VideoCapture(0)\n",
    "wth = capture.get(cv2.CAP_PROP_FRAME_WIDTH)\n",
    "hit = capture.get(cv2.CAP_PROP_FRAME_HEIGHT)\n",
    "\n",
    "bri = capture.get(cv2.CAP_PROP_BRIGHTNESS)\n",
    "con = capture.get(cv2.CAP_PROP_CONTRAST )\n",
    "sat = capture.get(cv2.CAP_PROP_SATURATION)\n",
    "hue = capture.get(cv2.CAP_PROP_HUE)\n",
    "ga = capture.get(cv2.CAP_PROP_GAIN)\n",
    "ex = capture.get(cv2.CAP_PROP_EXPOSURE)\n",
    "\n",
    "\n",
    "print('Frame width {}, height {}'.format(wth, hit))\n",
    "print(bri,con,sat,hue,ga,ex)\n",
    "\n",
    "capture.set(cv2.CAP_PROP_FRAME_WIDTH,1024)\n",
    "capture.set(cv2.CAP_PROP_FRAME_HEIGHT,768)\n",
    "\n",
    "while cv2.waitKey(32)<0:\n",
    "  ret, frame = capture.read()\n",
    "  if not ret :\n",
    "    break\n",
    "  cv2.imshow('frame',frame)\n",
    "capture.release()"
   ]
  },
  {
   "cell_type": "code",
   "execution_count": 2,
   "id": "05e7d746",
   "metadata": {},
   "outputs": [],
   "source": [
    "import cv2\n",
    "\n",
    "capture = cv2.VideoCapture(0)\n",
    "\n",
    "while capture.isOpened():\n",
    "    ret, frame = capture.read()\n",
    "    if not ret :\n",
    "        break\n",
    "        \n",
    "    cv2.imshow('frame',frame)\n",
    "    key=cv2.waitKey(32)\n",
    "    if key==ord('x'):\n",
    "        break\n",
    "capture.release()"
   ]
  },
  {
   "cell_type": "code",
   "execution_count": 2,
   "id": "ed0c7465",
   "metadata": {
    "scrolled": true
   },
   "outputs": [
    {
     "name": "stdout",
     "output_type": "stream",
     "text": [
      "Collecting datetime\n",
      "  Downloading DateTime-5.1-py3-none-any.whl (52 kB)\n",
      "     ---------------------------------------- 52.1/52.1 kB 2.8 MB/s eta 0:00:00\n",
      "Requirement already satisfied: zope.interface in c:\\users\\thsdk\\anaconda3\\lib\\site-packages (from datetime) (5.4.0)\n",
      "Requirement already satisfied: pytz in c:\\users\\thsdk\\anaconda3\\lib\\site-packages (from datetime) (2022.7)\n",
      "Requirement already satisfied: setuptools in c:\\users\\thsdk\\anaconda3\\lib\\site-packages (from zope.interface->datetime) (65.6.3)\n",
      "Installing collected packages: datetime\n",
      "Successfully installed datetime-5.1\n"
     ]
    }
   ],
   "source": [
    "!pip install datetime"
   ]
  },
  {
   "cell_type": "code",
   "execution_count": 2,
   "id": "06e8cb03",
   "metadata": {},
   "outputs": [],
   "source": [
    "import cv2\n",
    "import datetime\n",
    "\n",
    "capture = cv2.VideoCapture(0)\n",
    "\n",
    "while capture.isOpened():\n",
    "    ret, frame = capture.read()\n",
    "    if not ret:\n",
    "        break\n",
    "    cv2.imshow('frame',frame)\n",
    "    \n",
    "    key=cv2.waitKey(32)\n",
    "    if key==ord('x'):\n",
    "        break\n",
    "    #동영상 캡쳐하여 저장\n",
    "    elif key==ord('s'):\n",
    "        now=datetime.datetime.now()\n",
    "        fname=\"{}-{}-{}.jpg\".format(now.hour,now.minute,now.second)\n",
    "        cv2.imwrite(fname,frame)\n",
    "capture.release()"
   ]
  },
  {
   "cell_type": "code",
   "execution_count": null,
   "id": "9a993133",
   "metadata": {},
   "outputs": [],
   "source": []
  },
  {
   "cell_type": "code",
   "execution_count": null,
   "id": "ee50ee5e",
   "metadata": {},
   "outputs": [],
   "source": []
  }
 ],
 "metadata": {
  "kernelspec": {
   "display_name": "Python 3 (ipykernel)",
   "language": "python",
   "name": "python3"
  },
  "language_info": {
   "codemirror_mode": {
    "name": "ipython",
    "version": 3
   },
   "file_extension": ".py",
   "mimetype": "text/x-python",
   "name": "python",
   "nbconvert_exporter": "python",
   "pygments_lexer": "ipython3",
   "version": "3.10.9"
  }
 },
 "nbformat": 4,
 "nbformat_minor": 5
}
